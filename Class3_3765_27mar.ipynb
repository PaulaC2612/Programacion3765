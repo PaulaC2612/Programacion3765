{
  "nbformat": 4,
  "nbformat_minor": 0,
  "metadata": {
    "colab": {
      "provenance": []
    },
    "kernelspec": {
      "name": "python3",
      "display_name": "Python 3"
    },
    "language_info": {
      "name": "python"
    }
  },
  "cells": [
    {
      "cell_type": "markdown",
      "source": [
        "#***SENTENCIAS CONDICIONALES EN PYTHON***"
      ],
      "metadata": {
        "id": "nlkMxvQY8H7D"
      }
    },
    {
      "cell_type": "code",
      "execution_count": null,
      "metadata": {
        "colab": {
          "base_uri": "https://localhost:8080/"
        },
        "id": "nCBOR2E38Au1",
        "outputId": "94ff2daa-5614-44ad-f4a2-c81b3d7c57e4"
      },
      "outputs": [
        {
          "output_type": "stream",
          "name": "stdout",
          "text": [
            "Los números son iguales\n"
          ]
        }
      ],
      "source": [
        "num1 = 5\n",
        "num2 = 5\n",
        "\n",
        "if num1 == num2:\n",
        "  print(\"Los números son iguales\")\n",
        "else:\n",
        "  print(\"Los números NO son iguales\")"
      ]
    },
    {
      "cell_type": "markdown",
      "source": [
        "**OPERADORES RELACIONAES**"
      ],
      "metadata": {
        "id": "3JVTFijf_Fe8"
      }
    },
    {
      "cell_type": "markdown",
      "source": [
        "**>** mayor que, **<** menor que, **>=** mayor o igual que, **<=** menor o igual que, **==** igual que, **!=** diferente que,ambos debe ser iguales **and**, uno de los debe ser verdadero **or**, **in** texto inmerso en otro"
      ],
      "metadata": {
        "id": "0APx7ObD_GRb"
      }
    },
    {
      "cell_type": "code",
      "source": [
        "usuario = input(\"Digite su usuario: \")\n",
        "usubd = \"carlos1708\"\n",
        "\n",
        "if usuario == usubd:\n",
        "  print(\"El usuario es Correcto!\")\n",
        "else:\n",
        "  print(\"EL usuario es Incorrecto\")"
      ],
      "metadata": {
        "colab": {
          "base_uri": "https://localhost:8080/"
        },
        "id": "Vafj7cS9_H22",
        "outputId": "7a0135af-c43c-4eb4-ad1f-195b0ca8bfc9"
      },
      "execution_count": null,
      "outputs": [
        {
          "output_type": "stream",
          "name": "stdout",
          "text": [
            "Digite su usuario: carlos1708\n",
            "El usuario es Correcto!\n"
          ]
        }
      ]
    },
    {
      "cell_type": "code",
      "source": [
        "num = int(input(\"Digite el  número: \"))\n",
        "\n",
        "if num > 20:\n",
        "  print(\"EL número es mayor a 20\")\n",
        "elif num > 15:\n",
        "  print(\"EL número es mayor a 15\")\n",
        "elif num > 10:\n",
        "  print(\"EL número es mayor a 10\")\n",
        "elif num > 5:\n",
        "  print(\"EL número es mayor a 5\")\n",
        "else:\n",
        "  print(\"No se cumple ninguna condición!!!\")"
      ],
      "metadata": {
        "colab": {
          "base_uri": "https://localhost:8080/"
        },
        "id": "6utt3KJT_6Sn",
        "outputId": "1d640b5d-ea50-48bd-c0c0-cc512d26289b"
      },
      "execution_count": null,
      "outputs": [
        {
          "output_type": "stream",
          "name": "stdout",
          "text": [
            "Digite el  número: -5\n",
            "No se cumple ninguna condición!!!\n"
          ]
        }
      ]
    },
    {
      "cell_type": "code",
      "source": [
        "edad = int(input(\"Digite su edad: \"))\n",
        "\n",
        "if edad >= 13 and edad < 20:\n",
        "  print(\"Eres un Adolscente\")\n",
        "else:\n",
        "  print(\"NO eres un Adolscente\")"
      ],
      "metadata": {
        "colab": {
          "base_uri": "https://localhost:8080/"
        },
        "id": "S9QBRNrsBaqd",
        "outputId": "6cf52e46-49b9-4cea-e814-326829fc0fc5"
      },
      "execution_count": null,
      "outputs": [
        {
          "output_type": "stream",
          "name": "stdout",
          "text": [
            "Digite su edad: 10\n",
            "NO eres un Adolscente\n"
          ]
        }
      ]
    },
    {
      "cell_type": "code",
      "source": [
        "#palabra = input(\"Digite la palabra\")\n",
        "\n",
        "if \"10\" in \"10000\":\n",
        "  print(\"Verdadero!!\")\n",
        "else:\n",
        "  print(\"Falso!!\")"
      ],
      "metadata": {
        "colab": {
          "base_uri": "https://localhost:8080/"
        },
        "id": "ShFciHseCVOZ",
        "outputId": "c2c49b60-1889-4a07-ea1b-46fc863fd650"
      },
      "execution_count": null,
      "outputs": [
        {
          "output_type": "stream",
          "name": "stdout",
          "text": [
            "Verdadero!!\n"
          ]
        }
      ]
    },
    {
      "cell_type": "markdown",
      "source": [
        "Se necesita un sistema para un supermercado, el cual dará un 10% de descuento a las personas que compren más de $1000000 de lo contrario no dará ningún descuento, al cliente se le debe de dar el total a pagar. Condicional."
      ],
      "metadata": {
        "id": "zbZ5wg_YDWEi"
      }
    },
    {
      "cell_type": "code",
      "source": [
        "compra = float(input(\"¿Cuánto fue el total de la compra?: $\"))\n",
        "\n",
        "if compra > 1000000:\n",
        "  descu = compra * 0.10\n",
        "  total = compra - descu\n",
        "  print(\"EL descuento es =${:,.0f} y el total a pagar es=${:,.0f}\".format(descu, total))\n",
        "else:\n",
        "  print(f\"No tiene descuento, el total a pagar es= ${compra:,.0f}\")"
      ],
      "metadata": {
        "colab": {
          "base_uri": "https://localhost:8080/"
        },
        "id": "XQMC-Yc_DW0_",
        "outputId": "c000a2d6-edd5-46c6-b304-aa01448c3ac0"
      },
      "execution_count": null,
      "outputs": [
        {
          "output_type": "stream",
          "name": "stdout",
          "text": [
            "¿Cuánto fue el total de la compra?: $1350000\n",
            "EL descuento es =$135,000 y el total a pagar es=$1,215,000\n"
          ]
        }
      ]
    },
    {
      "cell_type": "markdown",
      "source": [
        "Se necesita un sistema que reciba tres calificaciones parciales de un alumno y en base a estas darle su promedio donde si el promedio es menor a 3.0 se le dirá que esta reprobado, en caso contrario el mensaje será aprobado. Condicional."
      ],
      "metadata": {
        "id": "EtjMVTkTEn7D"
      }
    },
    {
      "cell_type": "code",
      "source": [
        "cal1 = float(input(\"Digite la calificación 1: \"))\n",
        "cal2 = float(input(\"Digite la calificación 2: \"))\n",
        "cal3 = float(input(\"Digite la calificación 3: \"))\n",
        "\n",
        "prom = round((cal1 + cal2 + cal3)/3, 2)\n",
        "\n",
        "if prom < 3.0:\n",
        "  estado = \"Reprobó--\"\n",
        "else:\n",
        "  estado = \"Aprobó++\"\n",
        "print(f\"El promedio es = {prom} y el estado es= {estado}\")"
      ],
      "metadata": {
        "colab": {
          "base_uri": "https://localhost:8080/"
        },
        "id": "dFzZDk5uEoyX",
        "outputId": "e4fb4759-614e-452c-ab45-db676d16fb99"
      },
      "execution_count": null,
      "outputs": [
        {
          "output_type": "stream",
          "name": "stdout",
          "text": [
            "Digite la calificación 1: 4.5\n",
            "Digite la calificación 2: 4.5\n",
            "Digite la calificación 3: 3.5\n",
            "El promedio es = 4.17 y el estado es= Aprobó++\n"
          ]
        }
      ]
    },
    {
      "cell_type": "markdown",
      "source": [
        "**Taller 2:**\n",
        "\n",
        "Dando continuidad con la primera entrega del proyecto, en esta oportunidad el estudiante debe realizar las siguientes validaciones utilizando la sentencia condicional IF.\n",
        "1.\tSi el empleado es mayor de 55 años disfrutará de un bono de prepensión correspondiente al 5% de su sueldo básico.\n",
        "2.\tSi el empleado es casado y tiene hijos se le otorgará un paseo cada diciembre\n",
        " \n",
        "3.\tSi el sueldo básico está entre 1000000 y 1500000 tendrá una comisión del 2% sobre el valor del sueldo; Si el sueldo básico está entre 1500001 y 2000000 tendrá una comisión del 5% sobre el valor del sueldo; para todos los demás casos no habrá comisión.\n",
        "4.\tSi el empleado trabajó más de 20 días al mes y su sueldo es menor a 1000000 tendrá derecho a un bono de alimentación."
      ],
      "metadata": {
        "id": "iNp6bBd9GFb5"
      }
    },
    {
      "cell_type": "code",
      "source": [
        "#PUNTO 1 - Si el empleado es mayor de 55 años disfrutará de un bono de prepensión correspondiente al 5% de su sueldo básico.\n",
        "\n",
        "edad = int(input(\"La edad del empleado es: \"))\n",
        "sueldo = float(input(\"El sueldo basico es: $\"))\n",
        "\n",
        "if edad > 55:\n",
        "  bono = sueldo * 0.05\n",
        "  total = sueldo + bono\n",
        "  print(\"\\nEl bono corresponde a =${:,.0f} y el sueldo total es=${:,.0f} ¡Felicidades!\".format(bono,total))\n",
        "else:\n",
        "  print(f\"\\nNo tiene bono de prepension, el sueldo total es= ${sueldo:,.0f}\")"
      ],
      "metadata": {
        "id": "pMCN0ETvHUw9",
        "colab": {
          "base_uri": "https://localhost:8080/"
        },
        "outputId": "43eabdf7-4d1f-41cb-e492-de9b1361356e"
      },
      "execution_count": null,
      "outputs": [
        {
          "output_type": "stream",
          "name": "stdout",
          "text": [
            "La edad del empleado es: 60\n",
            "El sueldo basico es: $1800000\n",
            "\n",
            "El bono corresponde a =$90,000 y el sueldo total es=$1,890,000 ¡Felicidades!\n"
          ]
        }
      ]
    },
    {
      "cell_type": "code",
      "source": [
        "#PUNTO 2 - Si el empleado es casado y tiene hijos se le otorgará un paseo cada diciembre\n",
        "\n",
        "estado = str(input(\"¿Su estado civil es casado?: \"))\n",
        "hijos = int(input(\"Numero de hijos: \"))\n",
        "\n",
        "if  estado >= \"Si\" and hijos >= 1:\n",
        "    print(\"\\n¡Ganaste un paseo cada Diciembre!\")\n",
        "else:\n",
        "  print(\"\\nNO cumple con las condiciones establecidas.\")"
      ],
      "metadata": {
        "colab": {
          "base_uri": "https://localhost:8080/"
        },
        "id": "hOk1juyrM4w3",
        "outputId": "cbab4852-6910-4630-ff54-6612b719f544"
      },
      "execution_count": null,
      "outputs": [
        {
          "output_type": "stream",
          "name": "stdout",
          "text": [
            "¿Su estado civil es casado?: si\n",
            "Numero de hijos: 2\n",
            "\n",
            "¡Ganaste un paseo cada Diciembre!\n"
          ]
        }
      ]
    },
    {
      "cell_type": "code",
      "source": [
        "# PUNTO 3 - Si el sueldo básico está entre 1000000 y 1500000 tendrá una comisión del 2% sobre el valor del sueldo; \n",
        "#Si el sueldo básico está entre 1500001 y 2000000 tendrá una comisión del 5% sobre el valor del sueldo; para todos los demás casos no habrá comisión.\n",
        "\n",
        "sueldo = int(input(\"Digite su sueldo basico: $\"))\n",
        "com1 = sueldo * 0.02\n",
        "com2 = sueldo * 0.05\n",
        "total1 = com1 + sueldo\n",
        "total2 = com2 + sueldo\n",
        "\n",
        "if sueldo >= 1000000 and sueldo <= 1500000:\n",
        "  print(\"\\nLa comision es= ${:,.0f} y el sueldo total es= ${:,.0f}\".format(com1,total1))\n",
        "elif sueldo >1500001 and sueldo <= 2000000:\n",
        "  print(\"\\nLa comision es= ${:,.0f} y el sueldo total es= ${:,.0f}\".format(com2,total2))\n",
        "else:\n",
        "  print(\"\\nNo tiene comision.\")"
      ],
      "metadata": {
        "id": "BwyJrBq1ZMDO",
        "colab": {
          "base_uri": "https://localhost:8080/"
        },
        "outputId": "63fa5297-47a4-4150-e52e-6ff4f7396aca"
      },
      "execution_count": null,
      "outputs": [
        {
          "output_type": "stream",
          "name": "stdout",
          "text": [
            "Digite su sueldo basico: $1400000\n",
            "\n",
            "La comision es= $28,000 y el sueldo total es= $1,428,000\n"
          ]
        }
      ]
    },
    {
      "cell_type": "code",
      "source": [
        "#PUNTO 4 - Si el empleado trabajó más de 20 días al mes y su sueldo es menor a 1000000 tendrá derecho a un bono de alimentación.\n",
        "\n",
        "dias = int(input(\"¿Cuantos dias trabajo?: \"))\n",
        "sueldo = int(input(\"¿Cuanto es su sueldo?: \"))\n",
        "\n",
        "if dias > 20 and sueldo < 1000000:\n",
        "   print(\"\\n¡Tiene bono de alimentacion!\")\n",
        "else:\n",
        "    print(\"\\nNo tiene bono de alimentacion :(\")"
      ],
      "metadata": {
        "colab": {
          "base_uri": "https://localhost:8080/"
        },
        "id": "tusZNph_uffK",
        "outputId": "373bd1eb-b996-411f-ceb7-75c741c31567"
      },
      "execution_count": null,
      "outputs": [
        {
          "output_type": "stream",
          "name": "stdout",
          "text": [
            "¿Cuantos dias trabajo?: 12\n",
            "¿Cuanto es su sueldo?: 1400000\n",
            "\n",
            "No tiene bono de alimentacion :(\n"
          ]
        }
      ]
    }
  ]
}