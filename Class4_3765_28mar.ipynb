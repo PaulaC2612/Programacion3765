{
  "nbformat": 4,
  "nbformat_minor": 0,
  "metadata": {
    "colab": {
      "provenance": []
    },
    "kernelspec": {
      "name": "python3",
      "display_name": "Python 3"
    },
    "language_info": {
      "name": "python"
    }
  },
  "cells": [
    {
      "cell_type": "markdown",
      "source": [
        "#***CICLOS REPETITIVOS***"
      ],
      "metadata": {
        "id": "UMmgFbeyHbK9"
      }
    },
    {
      "cell_type": "markdown",
      "source": [
        "#**CICLO FOR**"
      ],
      "metadata": {
        "id": "1g8WDM9ZHcTI"
      }
    },
    {
      "cell_type": "code",
      "execution_count": null,
      "metadata": {
        "colab": {
          "base_uri": "https://localhost:8080/"
        },
        "id": "rLpllipUHOWu",
        "outputId": "bee85799-9c56-4895-bb45-e9d903fb586e"
      },
      "outputs": [
        {
          "output_type": "stream",
          "name": "stdout",
          "text": [
            "1\n",
            "2\n",
            "3\n",
            "4\n"
          ]
        }
      ],
      "source": [
        "for w in (1,2,3,4):\n",
        "  print(w)"
      ]
    },
    {
      "cell_type": "code",
      "source": [
        "for w in \"1,2,3,4\":\n",
        "  print(w)"
      ],
      "metadata": {
        "colab": {
          "base_uri": "https://localhost:8080/"
        },
        "id": "lX6NM8_uRw1y",
        "outputId": "72f1e030-9c73-42de-f8ff-fd2d4aab1bc9"
      },
      "execution_count": null,
      "outputs": [
        {
          "output_type": "stream",
          "name": "stdout",
          "text": [
            "1\n",
            ",\n",
            "2\n",
            ",\n",
            "3\n",
            ",\n",
            "4\n"
          ]
        }
      ]
    },
    {
      "cell_type": "code",
      "source": [
        "for w in \"Dagoberto\":\n",
        "  print(w)"
      ],
      "metadata": {
        "colab": {
          "base_uri": "https://localhost:8080/"
        },
        "id": "znArJfZDR28u",
        "outputId": "850cfaa4-4130-4dfe-c0ea-7aa415a4a5ba"
      },
      "execution_count": null,
      "outputs": [
        {
          "output_type": "stream",
          "name": "stdout",
          "text": [
            "D\n",
            "a\n",
            "g\n",
            "o\n",
            "b\n",
            "e\n",
            "r\n",
            "t\n",
            "o\n"
          ]
        }
      ]
    },
    {
      "cell_type": "markdown",
      "source": [
        "**FUNCIÓN Range(start, stop, step)**"
      ],
      "metadata": {
        "id": "bqzcEdzZSoBr"
      }
    },
    {
      "cell_type": "markdown",
      "source": [
        "cuando solo se pasa 1 parámetro a la función Range por default (stop)"
      ],
      "metadata": {
        "id": "iyvUsT1nSomu"
      }
    },
    {
      "cell_type": "code",
      "source": [
        "for i in range(0,11,3):\n",
        "  print(i)"
      ],
      "metadata": {
        "colab": {
          "base_uri": "https://localhost:8080/"
        },
        "id": "SiL3KNEQSEQe",
        "outputId": "c424f3cc-582b-4639-d59d-098e049f7774"
      },
      "execution_count": null,
      "outputs": [
        {
          "output_type": "stream",
          "name": "stdout",
          "text": [
            "0\n",
            "3\n",
            "6\n",
            "9\n"
          ]
        }
      ]
    },
    {
      "cell_type": "code",
      "source": [
        "nombre = input(\"Digite su nombre: \")\n",
        "\n",
        "for i in range(9):\n",
        "  print(i, nombre)"
      ],
      "metadata": {
        "colab": {
          "base_uri": "https://localhost:8080/"
        },
        "id": "nGPupRmTTmLA",
        "outputId": "1338770f-d932-40bf-880a-ca5d318f786e"
      },
      "execution_count": null,
      "outputs": [
        {
          "output_type": "stream",
          "name": "stdout",
          "text": [
            "Digite su nombre: Karen\n",
            "0 Karen\n",
            "1 Karen\n",
            "2 Karen\n",
            "3 Karen\n",
            "4 Karen\n",
            "5 Karen\n",
            "6 Karen\n",
            "7 Karen\n",
            "8 Karen\n"
          ]
        }
      ]
    },
    {
      "cell_type": "markdown",
      "source": [
        "Escribir un programa que realice la tabla de multiplicar de un número digitado por teclado"
      ],
      "metadata": {
        "id": "Cu3GokykUKTK"
      }
    },
    {
      "cell_type": "code",
      "source": [
        "num = int(input(\"Digite el número de la tyabla de multiplicar: \"))\n",
        "for i in range(11):\n",
        "  print(i, \" x \", num , \" = \", i * num)"
      ],
      "metadata": {
        "colab": {
          "base_uri": "https://localhost:8080/"
        },
        "id": "-DNeN-LWULVQ",
        "outputId": "40b21f0a-ebf9-4265-c75e-7928c367abfe"
      },
      "execution_count": null,
      "outputs": [
        {
          "output_type": "stream",
          "name": "stdout",
          "text": [
            "Digite el número de la tyabla de multiplicar: 15\n",
            "0  x  15  =  0\n",
            "1  x  15  =  15\n",
            "2  x  15  =  30\n",
            "3  x  15  =  45\n",
            "4  x  15  =  60\n",
            "5  x  15  =  75\n",
            "6  x  15  =  90\n",
            "7  x  15  =  105\n",
            "8  x  15  =  120\n",
            "9  x  15  =  135\n",
            "10  x  15  =  150\n"
          ]
        }
      ]
    },
    {
      "cell_type": "markdown",
      "source": [
        "Escriba un programa que me sume los números pares del 0 al 10 y saque el total de la suma."
      ],
      "metadata": {
        "id": "9eeoOWDUUu1E"
      }
    },
    {
      "cell_type": "code",
      "source": [
        "# variable acumuladora\n",
        "acu = 0\n",
        "\n",
        "for i in range(0,11,2):\n",
        "  # print(i)\n",
        "  acu = acu + i\n",
        "print(f\"El total de la suma de los números pares del 0-10= {acu}\")"
      ],
      "metadata": {
        "colab": {
          "base_uri": "https://localhost:8080/"
        },
        "id": "k3khZSmSUvUt",
        "outputId": "77e184cb-bf5a-417f-ee80-63398fddfea3"
      },
      "execution_count": null,
      "outputs": [
        {
          "output_type": "stream",
          "name": "stdout",
          "text": [
            "El total de la suma de los números pares del 0-10= 30\n"
          ]
        }
      ]
    },
    {
      "cell_type": "markdown",
      "source": [
        "**Taller Refuerzo**\n",
        "Ejercicios: https://drive.google.com/file/d/1L2Tn9iTSnSJlskALvM2hBpOBUEJdcwLL/view?usp=sharing"
      ],
      "metadata": {
        "id": "DnSQpf-oWyWV"
      }
    },
    {
      "cell_type": "code",
      "source": [
        "#PUNTO 1 - Crear un bucle que cuente todos los números pares hasta el 100 ciclo for\n",
        "\n",
        "for b in range(0,100,2):\n",
        "  print(b)"
      ],
      "metadata": {
        "colab": {
          "base_uri": "https://localhost:8080/"
        },
        "id": "9AhITaeKJSCQ",
        "outputId": "92289aea-7dad-4c07-b6f3-e19822f6853c"
      },
      "execution_count": null,
      "outputs": [
        {
          "output_type": "stream",
          "name": "stdout",
          "text": [
            "0\n",
            "2\n",
            "4\n",
            "6\n",
            "8\n",
            "10\n",
            "12\n",
            "14\n",
            "16\n",
            "18\n",
            "20\n",
            "22\n",
            "24\n",
            "26\n",
            "28\n",
            "30\n",
            "32\n",
            "34\n",
            "36\n",
            "38\n",
            "40\n",
            "42\n",
            "44\n",
            "46\n",
            "48\n",
            "50\n",
            "52\n",
            "54\n",
            "56\n",
            "58\n",
            "60\n",
            "62\n",
            "64\n",
            "66\n",
            "68\n",
            "70\n",
            "72\n",
            "74\n",
            "76\n",
            "78\n",
            "80\n",
            "82\n",
            "84\n",
            "86\n",
            "88\n",
            "90\n",
            "92\n",
            "94\n",
            "96\n",
            "98\n"
          ]
        }
      ]
    },
    {
      "cell_type": "code",
      "source": [
        "#PUNTO 2 - Haz una tabla de multiplicar utilizando el ciclo for ciclo for.\n",
        "\n",
        "tabla = int(input(\"El numero a multiplicar es: \"))\n",
        "for b in range(10):\n",
        "  print(b, \"x\", tabla, \"=\", b * tabla)"
      ],
      "metadata": {
        "colab": {
          "base_uri": "https://localhost:8080/"
        },
        "id": "5f4dgyXgKQem",
        "outputId": "bd173847-4d8c-4ad1-b412-e36ccdc4b047"
      },
      "execution_count": null,
      "outputs": [
        {
          "output_type": "stream",
          "name": "stdout",
          "text": [
            "El numero a multiplicar es: 12\n",
            "0 x 12 = 0\n",
            "1 x 12 = 12\n",
            "2 x 12 = 24\n",
            "3 x 12 = 36\n",
            "4 x 12 = 48\n",
            "5 x 12 = 60\n",
            "6 x 12 = 72\n",
            "7 x 12 = 84\n",
            "8 x 12 = 96\n",
            "9 x 12 = 108\n"
          ]
        }
      ]
    },
    {
      "cell_type": "code",
      "source": [
        "#PUNTO 3 - Escribir un programa que pregunte al usuario su edad y muestre por pantalla todos los años \n",
        "# que ha cumplido (desde 1 hasta su edad). ciclo for\n",
        "\n",
        "edad = int(input(\"¿Que edad tiene?: \" ))\n",
        "for b in range(1,26,1):\n",
        "   print(b)"
      ],
      "metadata": {
        "colab": {
          "base_uri": "https://localhost:8080/"
        },
        "id": "ASUKpn1EO-U9",
        "outputId": "0b5d0986-8b9a-4a49-9535-edaa3f71ec0a"
      },
      "execution_count": null,
      "outputs": [
        {
          "output_type": "stream",
          "name": "stdout",
          "text": [
            "¿Que edad tiene?: 25\n",
            "1\n",
            "2\n",
            "3\n",
            "4\n",
            "5\n",
            "6\n",
            "7\n",
            "8\n",
            "9\n",
            "10\n",
            "11\n",
            "12\n",
            "13\n",
            "14\n",
            "15\n",
            "16\n",
            "17\n",
            "18\n",
            "19\n",
            "20\n",
            "21\n",
            "22\n",
            "23\n",
            "24\n",
            "25\n"
          ]
        }
      ]
    },
    {
      "cell_type": "code",
      "source": [
        "#PUNTO 4 - Escribir un programa que pida al usuario un número entero positivo y muestre por pantalla todos los números\n",
        "# impares desde 1 hasta ese número separados por comas.\n",
        "\n",
        "num = int(input(\"Digite un numero entero positivo: \"))\n",
        "for b in \"1,3,5,7,9\":\n",
        " print(b)"
      ],
      "metadata": {
        "colab": {
          "base_uri": "https://localhost:8080/"
        },
        "id": "4_ZZ2Y0AQkV1",
        "outputId": "38c3cc67-16e1-41fd-fbd6-d5c84c6f6f4c"
      },
      "execution_count": 1,
      "outputs": [
        {
          "output_type": "stream",
          "name": "stdout",
          "text": [
            "Digite un numero entero positivo: 9\n",
            "1\n",
            ",\n",
            "3\n",
            ",\n",
            "5\n",
            ",\n",
            "7\n",
            ",\n",
            "9\n"
          ]
        }
      ]
    },
    {
      "cell_type": "code",
      "source": [
        "#PUNTO 5 - Encuentra la suma de todos los números pares del 1 al 100 ciclo for\n",
        "\n",
        "sum = 0\n",
        "for b in range(1,100,2):\n",
        "  sum = sum + b\n",
        "print(f\"La suma total de los numeros pares del 1 al 100 es= {sum}\")"
      ],
      "metadata": {
        "colab": {
          "base_uri": "https://localhost:8080/"
        },
        "id": "MrvTzDCdUjGy",
        "outputId": "c96eada6-3d00-4963-c789-a375e683027a"
      },
      "execution_count": null,
      "outputs": [
        {
          "output_type": "stream",
          "name": "stdout",
          "text": [
            "La suma total de los numeros pares del 1 al 100 es= 2500\n"
          ]
        }
      ]
    }
  ]
}