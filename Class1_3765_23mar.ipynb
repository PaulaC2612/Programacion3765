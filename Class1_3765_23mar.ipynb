{
  "nbformat": 4,
  "nbformat_minor": 0,
  "metadata": {
    "colab": {
      "provenance": []
    },
    "kernelspec": {
      "name": "python3",
      "display_name": "Python 3"
    },
    "language_info": {
      "name": "python"
    }
  },
  "cells": [
    {
      "cell_type": "code",
      "source": [
        "# variable que captura el teléfono de una persona\n",
        "#telefono = 311215121\n",
        "# variable nombre de persona\n",
        "nombre = \"Carlos Diaz\"\n",
        "# visualiza por pantalla el valor de la variable telefono\n",
        "#print(telefono)\n",
        "# Visualza el valor de nombre\n",
        "print(nombre)"
      ],
      "metadata": {
        "colab": {
          "base_uri": "https://localhost:8080/"
        },
        "id": "lfdaj65WnmYH",
        "outputId": "5b3ae3e3-ae7d-4472-fbd0-5a112365f45b"
      },
      "execution_count": null,
      "outputs": [
        {
          "output_type": "stream",
          "name": "stdout",
          "text": [
            "Carlos Diaz\n"
          ]
        }
      ]
    },
    {
      "cell_type": "markdown",
      "source": [
        "#***INICIANDO CON PYTHON***"
      ],
      "metadata": {
        "id": "j-_2ZvUGgynH"
      }
    },
    {
      "cell_type": "code",
      "execution_count": null,
      "metadata": {
        "colab": {
          "base_uri": "https://localhost:8080/"
        },
        "id": "_oBZtUlGgt0G",
        "outputId": "25f1f0fb-202c-477b-bc31-80ff7f6bfcce"
      },
      "outputs": [
        {
          "output_type": "stream",
          "name": "stdout",
          "text": [
            "Hola mundo\n"
          ]
        }
      ],
      "source": [
        "print(\"Hola mundo\")\n",
        "\n"
      ]
    },
    {
      "cell_type": "code",
      "source": [
        "nombre_P = \"Carlos Diaz\"\n",
        "print(nombre_P)"
      ],
      "metadata": {
        "colab": {
          "base_uri": "https://localhost:8080/"
        },
        "id": "k5jASkMkk8Kb",
        "outputId": "66b117eb-cc6c-4bfc-f319-0a01a109473b"
      },
      "execution_count": null,
      "outputs": [
        {
          "output_type": "stream",
          "name": "stdout",
          "text": [
            "Carlos Diaz\n"
          ]
        }
      ]
    },
    {
      "cell_type": "code",
      "source": [
        "edad = 48\n",
        "print(edad)\n",
        "edad = \"Diana\"\n",
        "print(edad)"
      ],
      "metadata": {
        "colab": {
          "base_uri": "https://localhost:8080/"
        },
        "id": "oP6HV1O-lRKH",
        "outputId": "35ab101b-0d33-4d0c-effe-2457f8d97f05"
      },
      "execution_count": null,
      "outputs": [
        {
          "output_type": "stream",
          "name": "stdout",
          "text": [
            "48\n",
            "Diana\n"
          ]
        }
      ]
    },
    {
      "cell_type": "code",
      "source": [
        "val = True\n",
        "print(val)"
      ],
      "metadata": {
        "colab": {
          "base_uri": "https://localhost:8080/"
        },
        "id": "UlJqCthhmBwA",
        "outputId": "0b79d503-fe7b-472e-d9aa-73129d853636"
      },
      "execution_count": null,
      "outputs": [
        {
          "output_type": "stream",
          "name": "stdout",
          "text": [
            "True\n"
          ]
        }
      ]
    },
    {
      "cell_type": "code",
      "source": [
        "nombre = 'Carlos'\n",
        "apellido = \"Perez\"\n",
        "edad = 45\n",
        "estatura = 1.80\n",
        "print(nombre + \" \\n\" + apellido , edad , estatura)"
      ],
      "metadata": {
        "colab": {
          "base_uri": "https://localhost:8080/"
        },
        "id": "n3bGSDfkmGDj",
        "outputId": "7f3b76b0-eee6-4b92-aaf0-efbdea1748ea"
      },
      "execution_count": null,
      "outputs": [
        {
          "output_type": "stream",
          "name": "stdout",
          "text": [
            "Carlos \n",
            "Perez 45 1.8\n"
          ]
        }
      ]
    },
    {
      "cell_type": "markdown",
      "source": [
        "# # COMENTARIOS"
      ],
      "metadata": {
        "id": "BaQYv_aEneq_"
      }
    },
    {
      "cell_type": "markdown",
      "source": [
        "1. Documentar\n",
        "2. Pruebas"
      ],
      "metadata": {
        "id": "a5vZudEAng6K"
      }
    },
    {
      "cell_type": "code",
      "source": [
        "nombrePer = input(\"Digite su nombre:\")\n",
        "print(nombrePer)"
      ],
      "metadata": {
        "colab": {
          "base_uri": "https://localhost:8080/"
        },
        "id": "ihyhbIY7obeA",
        "outputId": "6d4afe77-4e8c-4664-c994-3819128a7d81"
      },
      "execution_count": null,
      "outputs": [
        {
          "output_type": "stream",
          "name": "stdout",
          "text": [
            "Digite su nombre:Roger\n",
            "Roger\n"
          ]
        }
      ]
    },
    {
      "cell_type": "markdown",
      "source": [
        "**Taller 1**\n",
        "\n",
        "No de Identificación, Nombres, Apellidos, Dirección, Teléfono, Edad, Estado Civil, Número de hijos, Estatura en centímetros, fecha de contratación (Día/mes/año), Sueldo básico, Días Laborados."
      ],
      "metadata": {
        "id": "lCo0ZUycpThK"
      }
    },
    {
      "cell_type": "code",
      "source": [
        "Identificacion = 123456789 \n",
        "print(Identificacion)\n",
        "Nombres = \"Pepita\"\n",
        "print(Nombres)\n",
        "Apellidos = \"perez\"\n",
        "print(Apellidos)\n",
        "Direccion = 942604\n",
        "print(Direccion)\n",
        "Telefono = 3223445678\n",
        "print(Telefono)\n",
        "Edad = 25\n",
        "print(Edad)\n",
        "Estado_civil = \"Union libre\"\n",
        "print(Estado_civil)\n",
        "Numero_de_hijos = 1\n",
        "print(Numero_de_hijos)\n",
        "Estatura = 1.55\n",
        "print(Estatura)\n",
        "Fecha_de_contratacion = 1_1_2023\n",
        "print(Fecha_de_contratacion)\n",
        "Sueldo_basico = 2000000\n",
        "print(Sueldo_basico)\n",
        "Dias_laborados = 85\n",
        "print(Dias_laborados)"
      ],
      "metadata": {
        "colab": {
          "base_uri": "https://localhost:8080/"
        },
        "id": "Q8Am4-1GvI6i",
        "outputId": "d61ef46d-ea81-4fa5-c974-4deca1f91f4e"
      },
      "execution_count": null,
      "outputs": [
        {
          "output_type": "stream",
          "name": "stdout",
          "text": [
            "123456789\n",
            "Pepita\n",
            "perez\n",
            "942604\n",
            "3223445678\n",
            "25\n",
            "Union libre\n",
            "1\n",
            "1.55\n",
            "112023\n",
            "2000000\n",
            "85\n"
          ]
        }
      ]
    }
  ]
}