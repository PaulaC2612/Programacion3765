{
  "nbformat": 4,
  "nbformat_minor": 0,
  "metadata": {
    "colab": {
      "provenance": []
    },
    "kernelspec": {
      "name": "python3",
      "display_name": "Python 3"
    },
    "language_info": {
      "name": "python"
    }
  },
  "cells": [
    {
      "cell_type": "markdown",
      "source": [
        "#**OPERADORES MATEMÁTICOS EN PTYHON**"
      ],
      "metadata": {
        "id": "VAItE9I5qUDk"
      }
    },
    {
      "cell_type": "code",
      "execution_count": null,
      "metadata": {
        "colab": {
          "base_uri": "https://localhost:8080/"
        },
        "id": "idlwx7WZqJRF",
        "outputId": "c9755abb-6f49-4e52-e363-c445764403b4"
      },
      "outputs": [
        {
          "output_type": "stream",
          "name": "stdout",
          "text": [
            "7\n"
          ]
        }
      ],
      "source": [
        "num1 = 4\n",
        "num2 = 3\n",
        "res = num1 + num2\n",
        "print(res)"
      ]
    },
    {
      "cell_type": "code",
      "source": [
        "# Default Input() = str\n",
        "num1 = int(input(\"Digite el número 1: \"))\n",
        "num2 = int(input(\"Digite el número 2: \"))\n",
        "res = num1 + num2\n",
        "print(\"La suma de {} y {} es = {}\".format(num1, num2, res ))\n",
        "print(f\"La suma de {num1} y {num2} es = {res}\")"
      ],
      "metadata": {
        "colab": {
          "base_uri": "https://localhost:8080/"
        },
        "id": "1Hm4i_zDwubZ",
        "outputId": "2a09a7cf-2da5-4124-9397-e4185db5bea4"
      },
      "execution_count": null,
      "outputs": [
        {
          "output_type": "stream",
          "name": "stdout",
          "text": [
            "Digite el número 1: 50\n",
            "Digite el número 2: 2\n",
            "La suma de 50 y 2 es = 52\n",
            "La suma de 50 y 2 es = 52\n"
          ]
        }
      ]
    },
    {
      "cell_type": "code",
      "source": [
        "try:\n",
        "  num = input(\"Digite el número: \")\n",
        "  num  =int(num)\n",
        "except ValueError:\n",
        "  print(\"No es valido el Intero!!\")"
      ],
      "metadata": {
        "colab": {
          "base_uri": "https://localhost:8080/"
        },
        "id": "F3GT3s_CzgCU",
        "outputId": "47560a9c-4452-41e9-b44e-0c9077a7193b"
      },
      "execution_count": null,
      "outputs": [
        {
          "output_type": "stream",
          "name": "stdout",
          "text": [
            "Digite el número: diana\n",
            "No es valido el Intero!!\n"
          ]
        }
      ]
    },
    {
      "cell_type": "code",
      "source": [
        "num = input(\"Digite el número: \")\n",
        "num  =int(num)"
      ],
      "metadata": {
        "colab": {
          "base_uri": "https://localhost:8080/"
        },
        "id": "Vnca_jBI0GZG",
        "outputId": "6b46c17b-0b40-4211-84ef-2e9f2153abf2"
      },
      "execution_count": null,
      "outputs": [
        {
          "name": "stdout",
          "output_type": "stream",
          "text": [
            "Digite el número: 0\n"
          ]
        }
      ]
    },
    {
      "cell_type": "markdown",
      "source": [
        "**CALCULADORA** + - * /"
      ],
      "metadata": {
        "id": "tIEkJ24y0WA3"
      }
    },
    {
      "cell_type": "code",
      "source": [
        "num1 = int(input(\"Digite el número 1: \"))\n",
        "num2 = int(input(\"Digite el número 2: \"))\n",
        "\n",
        "suma = num1 + num2\n",
        "resta = num1 - num2\n",
        "multi = num1 * num2\n",
        "divi = num1 / num2\n",
        "\n",
        "print(\"\\nEl reultado de la SUMA es= {}\".format(suma))\n",
        "print(\"\\nEl reultado de la RESTA es= {}\".format(resta))\n",
        "print(f\"\\nEl resultado de la MULTIPLICACIÓN es= {multi}\")\n",
        "print(f\"\\nEl resultado de la DIVISIÓN es= {divi}\")"
      ],
      "metadata": {
        "colab": {
          "base_uri": "https://localhost:8080/"
        },
        "id": "_61iFsw70non",
        "outputId": "e658f706-0f2c-4c56-ecdc-358638b5e7d5"
      },
      "execution_count": null,
      "outputs": [
        {
          "output_type": "stream",
          "name": "stdout",
          "text": [
            "Digite el número 1: 10\n",
            "Digite el número 2: 5\n",
            "\n",
            "El reultado de la SUMA es= 15\n",
            "\n",
            "El reultado de la RESTA es= 5\n",
            "\n",
            "El resultado de la MULTIPLICACIÓN es= 50\n",
            "\n",
            "El resultado de la DIVISIÓN es= 2.0\n"
          ]
        }
      ]
    },
    {
      "cell_type": "markdown",
      "source": [
        "Se recibe una venta por concepto de un prodcuto se requiere aplicar el IVA (19%) y conocer el total a pagar con el IVA Incluido"
      ],
      "metadata": {
        "id": "IaalAn5M1hDL"
      }
    },
    {
      "cell_type": "code",
      "source": [
        "# variable que captura la venta\n",
        "venta = float(input(\"¿Cuánto fue el total de la compra?: \"))\n",
        "iva = venta * 0.19\n",
        "total = venta + iva\n",
        "print(\"El IVA es = ${:,.0f} y el total a pagar esl = ${:,.0f}\".format(iva, total))\n",
        "print(f\"El IVA es = ${iva:,.0f} y el total a pagar esl = ${total:,.0f}\")"
      ],
      "metadata": {
        "colab": {
          "base_uri": "https://localhost:8080/"
        },
        "id": "zhzlSv7y1hwN",
        "outputId": "29c63f3e-47be-4707-dbe4-82de17896ab9"
      },
      "execution_count": null,
      "outputs": [
        {
          "output_type": "stream",
          "name": "stdout",
          "text": [
            "¿Cuánto fue el total de la compra?: 850000\n",
            "El IVA es = $161,500 y el total a pagar esl = $1,011,500\n",
            "El IVA es = $161,500 y el total a pagar esl = $1,011,500\n"
          ]
        }
      ]
    },
    {
      "cell_type": "markdown",
      "source": [
        "Se necesita un sistema que reciba tres calificaciones parciales de un alumno y en base a estas darle su promedio\n"
      ],
      "metadata": {
        "id": "-YwXtmAD4HX-"
      }
    },
    {
      "cell_type": "code",
      "source": [
        "cal1 = float(input(\"Digite la calificación 1: \"))\n",
        "cal2 = float(input(\"Digite la calificación 2: \"))\n",
        "cal3 = float(input(\"Digite la calificación 3: \"))\n",
        "\n",
        "prom = round((cal1 + cal2 + cal3)/3, 2)\n",
        "\n",
        "print(f\"El promedio es= {prom}\")"
      ],
      "metadata": {
        "colab": {
          "base_uri": "https://localhost:8080/"
        },
        "id": "Hn2EjdqS4ILG",
        "outputId": "d8639e51-6c10-467e-f943-2b7ca338f0fc"
      },
      "execution_count": null,
      "outputs": [
        {
          "output_type": "stream",
          "name": "stdout",
          "text": [
            "Digite la calificación 1: 4.2\n",
            "Digite la calificación 2: 3.7\n",
            "Digite la calificación 3: 1.8\n",
            "El promedio es= 3.23\n"
          ]
        }
      ]
    },
    {
      "cell_type": "markdown",
      "source": [
        "# **Taller Refuerzo**\n",
        "https://drive.google.com/file/d/1jFH9DgCRha_dn9JG7c_jjTpeE5x5kK3d/view?usp=sharing"
      ],
      "metadata": {
        "id": "FDQ79X214-Ng"
      }
    },
    {
      "cell_type": "markdown",
      "source": [
        "1. Un vendedor recibe un sueldo base más un 10% extra por\n",
        "comisión de sus ventas, el vendedor desea saber cuánto\n",
        "dinero obtendrá por concepto de comisiones por las tres\n",
        "ventas que realiza en el mes y el total que recibirá en\n",
        "el mes tomando en cuenta su sueldo base y comisiones. "
      ],
      "metadata": {
        "id": "irVD4R7x6b6T"
      }
    },
    {
      "cell_type": "code",
      "source": [
        "sueldo = int(input(\"El sueldo base es: \"))\n",
        "ven1 = int(input(\"\\nVenta No. 1: \"))\n",
        "ven2 = int(input(\"Venta No. 2: \"))\n",
        "ven3 = int(input(\"Venta No. 3: \"))\n",
        "com1 = ven1 * 0.10\n",
        "com2 = ven2 * 0.10\n",
        "com3 = ven3 * 0.10\n",
        "\n",
        "print(\"\\nTotal comision= ${:,.0f}\".format(com1 + com2+ com3))\n",
        "print(\"\\nTotal sueldo= ${:,.0f}\".format(com1 + com2+ com3 + sueldo))"
      ],
      "metadata": {
        "id": "IShOe-qg69G4",
        "colab": {
          "base_uri": "https://localhost:8080/"
        },
        "outputId": "6b42abea-19bc-4f5a-d4a1-20aad86a68d5"
      },
      "execution_count": null,
      "outputs": [
        {
          "output_type": "stream",
          "name": "stdout",
          "text": [
            "El sueldo base es: 1800000\n",
            "\n",
            "Venta No. 1: 5000000\n",
            "Venta No. 2: 3000000\n",
            "Venta No. 3: 2000000\n",
            "\n",
            "Total comision= $1,000,000\n",
            "\n",
            "Total sueldo= $2,800,000\n"
          ]
        }
      ]
    },
    {
      "cell_type": "markdown",
      "source": [
        "2. Una tienda ofrece un descuento del 15% sobre el total\n",
        "de la compra y un cliente desea saber cuánto deberá\n",
        "pagar finalmente por su compra."
      ],
      "metadata": {
        "id": "fXgozn-E6rhc"
      }
    },
    {
      "cell_type": "code",
      "source": [
        "print(\"Tienda Zara`s\")\n",
        "print(\"Factura No. 2514\")\n",
        "com1 = int(input(\"\\nBlusas: \"))\n",
        "com2 = int(input(\"Pantalones: \"))\n",
        "com3 = int(input(\"Zapatos: \"))\n",
        "totalcom = com1 + com2 + com3\n",
        "des = totalcom * 0.15\n",
        "\n",
        "print(\"\\nSubtotal compra= ${:,.0f}\".format(totalcom))\n",
        "print(\"Descuento= ${:,.0f}\".format(des))\n",
        "print(\"Total a pagar= ${:,.0f}\".format(totalcom - des))"
      ],
      "metadata": {
        "colab": {
          "base_uri": "https://localhost:8080/"
        },
        "id": "bBZ6RGP6r_RS",
        "outputId": "48a5f8d2-f1b7-44f4-c65a-8fa7f5e4080c"
      },
      "execution_count": null,
      "outputs": [
        {
          "output_type": "stream",
          "name": "stdout",
          "text": [
            "Tienda Zara`s\n",
            "Factura No. 2514\n",
            "\n",
            "Blusas: 208000\n",
            "Pantalones: 377000\n",
            "Zapatos: 693000\n",
            "\n",
            "Subtotal compra= $1,278,000\n",
            "Descuento= $191,700\n",
            "Total a pagar= $1,086,300\n"
          ]
        }
      ]
    },
    {
      "cell_type": "markdown",
      "source": [
        "3. Un maestro desea saber qué porcentaje de hombres y que\n",
        "porcentaje de mujeres hay en un grupo de estudiantes."
      ],
      "metadata": {
        "id": "ZfaqVe1R6wJe"
      }
    },
    {
      "cell_type": "code",
      "source": [
        "print(\"Docente: Pepito Perez \")\n",
        "print(\"Clase: Programacion\")\n",
        "print(\"Grupo de estudiantes: 50\")\n",
        "\n",
        "num_hom = 32\n",
        "num_muj = 18\n",
        "total = num_hom + num_muj\n",
        "porcentaje1 = num_hom * 100 / total\n",
        "porcentaje2 = num_muj * 100 / total\n",
        "\n",
        "print(f\"\\nEl % de hombres es = {porcentaje1}\")\n",
        "print(f\"El % de muejeres es = {porcentaje2}\")\n",
        "print(\"Para un total de = {}\".format(porcentaje1 + porcentaje2))"
      ],
      "metadata": {
        "colab": {
          "base_uri": "https://localhost:8080/"
        },
        "id": "5atdAgTy3rV_",
        "outputId": "b3e3b4d6-5c27-41cf-bd9d-a8c7111d6a06"
      },
      "execution_count": null,
      "outputs": [
        {
          "output_type": "stream",
          "name": "stdout",
          "text": [
            "Docente: Pepito Perez \n",
            "Clase: Programacion\n",
            "Grupo de estudiantes: 50\n",
            "\n",
            "El % de hombres es = 64.0\n",
            "El % de muejeres es = 36.0\n",
            "Para un total de = 100.0\n"
          ]
        }
      ]
    }
  ]
}